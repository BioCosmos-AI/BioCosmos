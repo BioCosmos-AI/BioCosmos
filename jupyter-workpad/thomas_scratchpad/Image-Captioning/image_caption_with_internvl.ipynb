{
 "cells": [
  {
   "cell_type": "markdown",
   "id": "0f623466",
   "metadata": {},
   "source": [
    "# Image Captioning with InternVL\n"
   ]
  },
  {
   "cell_type": "code",
   "execution_count": null,
   "id": "5299b526",
   "metadata": {},
   "outputs": [],
   "source": [
    "!pip install transformers torch torchvision pandas tqdm pillow huggingface-hub"
   ]
  },
  {
   "cell_type": "markdown",
   "id": "d42af0b6",
   "metadata": {},
   "source": [
    "## Download HuggingFace InternVL2 model and dataset from hugging face"
   ]
  },
  {
   "cell_type": "code",
   "execution_count": null,
   "id": "8b2a1bf8",
   "metadata": {},
   "outputs": [],
   "source": [
    "from download_script import download_internvl2_model, download_vlm4bio_dataset"
   ]
  },
  {
   "cell_type": "markdown",
   "id": "e655fa55",
   "metadata": {},
   "source": [
    "### Download InternVL2"
   ]
  },
  {
   "cell_type": "code",
   "execution_count": null,
   "id": "4e193c12",
   "metadata": {},
   "outputs": [],
   "source": [
    "# Uncomment if you want to direcly interact with the model in jupyter\n",
    "#model, tokenizer = download_internvl2_model()"
   ]
  },
  {
   "cell_type": "markdown",
   "id": "1633e747",
   "metadata": {},
   "source": [
    "### Download VLM4Bio Dataset"
   ]
  },
  {
   "cell_type": "code",
   "execution_count": null,
   "id": "43b43a3c",
   "metadata": {},
   "outputs": [],
   "source": [
    "data_dir = download_vlm4bio_dataset()"
   ]
  },
  {
   "cell_type": "code",
   "execution_count": null,
   "id": "5e6244c9",
   "metadata": {},
   "outputs": [],
   "source": [
    "# Reorganize the weird VM4Bio structure:\n",
    "\n",
    "import reorganize_vlm4bio\n",
    "\n",
    "reorganize_vlm4bio.reorganize_vlm4bio_dataset()\n",
    "reorganize_vlm4bio.verify_reorganization()"
   ]
  },
  {
   "cell_type": "markdown",
   "id": "57dbed70",
   "metadata": {},
   "source": [
    "# Run Image Captioning Script"
   ]
  },
  {
   "cell_type": "code",
   "execution_count": null,
   "id": "f8a7e392",
   "metadata": {},
   "outputs": [],
   "source": [
    "import internvl_img_caption as caption_images"
   ]
  },
  {
   "cell_type": "code",
   "execution_count": null,
   "id": "509cc651",
   "metadata": {},
   "outputs": [],
   "source": [
    "data_dir = \"data/VLM4Bio\"\n",
    "output_path = \"vlm4bio_captions.csv\"\n",
    "\n",
    "caption_images.process_vlm4bio_dataset(data_dir, output_path)\n"
   ]
  },
  {
   "cell_type": "markdown",
   "id": "99afa4ba",
   "metadata": {},
   "source": [
    "## Split Training and Test data"
   ]
  },
  {
   "cell_type": "code",
   "execution_count": 1,
   "id": "700d1435",
   "metadata": {},
   "outputs": [],
   "source": [
    "import train_test_split"
   ]
  },
  {
   "cell_type": "code",
   "execution_count": null,
   "id": "961a5f32",
   "metadata": {},
   "outputs": [],
   "source": [
    "train_test_split.create_train_test_split('vlm4bio_captions.csv')"
   ]
  }
 ],
 "metadata": {
  "kernelspec": {
   "display_name": "Python 3 (ipykernel)",
   "language": "python",
   "name": "python3"
  },
  "language_info": {
   "codemirror_mode": {
    "name": "ipython",
    "version": 3
   },
   "file_extension": ".py",
   "mimetype": "text/x-python",
   "name": "python",
   "nbconvert_exporter": "python",
   "pygments_lexer": "ipython3",
   "version": "3.10.13"
  }
 },
 "nbformat": 4,
 "nbformat_minor": 5
}
