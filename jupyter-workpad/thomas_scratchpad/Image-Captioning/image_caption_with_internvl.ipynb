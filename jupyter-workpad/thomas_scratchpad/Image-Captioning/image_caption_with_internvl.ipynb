{
 "cells": [
  {
   "cell_type": "markdown",
   "id": "0f623466",
   "metadata": {},
   "source": [
    "# Image Captioning with InternVL\n"
   ]
  },
  {
   "cell_type": "code",
   "execution_count": 4,
   "id": "5299b526",
   "metadata": {},
   "outputs": [
    {
     "name": "stdout",
     "output_type": "stream",
     "text": [
      "Defaulting to user installation because normal site-packages is not writeable\n",
      "Requirement already satisfied: transformers in /home/hice1/tdeatherage3/.local/lib/python3.10/site-packages (4.45.2)\n",
      "Requirement already satisfied: torch in /home/hice1/tdeatherage3/.local/lib/python3.10/site-packages (2.4.1)\n",
      "Requirement already satisfied: torchvision in /home/hice1/tdeatherage3/.local/lib/python3.10/site-packages (0.19.1)\n",
      "Requirement already satisfied: pandas in /storage/pace-apps/manual/packages/anaconda3/2023.03/lib/python3.10/site-packages (2.2.0)\n",
      "Requirement already satisfied: tqdm in /storage/pace-apps/manual/packages/anaconda3/2023.03/lib/python3.10/site-packages (4.65.0)\n",
      "Requirement already satisfied: pillow in /storage/pace-apps/manual/packages/anaconda3/2023.03/lib/python3.10/site-packages (9.4.0)\n",
      "Requirement already satisfied: huggingface-hub in /home/hice1/tdeatherage3/.local/lib/python3.10/site-packages (0.25.1)\n",
      "Requirement already satisfied: requests in /storage/pace-apps/manual/packages/anaconda3/2023.03/lib/python3.10/site-packages (from transformers) (2.29.0)\n",
      "Requirement already satisfied: regex!=2019.12.17 in /home/hice1/tdeatherage3/.local/lib/python3.10/site-packages (from transformers) (2024.9.11)\n",
      "Requirement already satisfied: pyyaml>=5.1 in /storage/pace-apps/manual/packages/anaconda3/2023.03/lib/python3.10/site-packages (from transformers) (6.0)\n",
      "Requirement already satisfied: filelock in /storage/pace-apps/manual/packages/anaconda3/2023.03/lib/python3.10/site-packages (from transformers) (3.9.0)\n",
      "Requirement already satisfied: safetensors>=0.4.1 in /home/hice1/tdeatherage3/.local/lib/python3.10/site-packages (from transformers) (0.4.5)\n",
      "Requirement already satisfied: packaging>=20.0 in /storage/pace-apps/manual/packages/anaconda3/2023.03/lib/python3.10/site-packages (from transformers) (23.0)\n",
      "Requirement already satisfied: numpy>=1.17 in /home/hice1/tdeatherage3/.local/lib/python3.10/site-packages (from transformers) (1.26.4)\n",
      "Requirement already satisfied: tokenizers<0.21,>=0.20 in /home/hice1/tdeatherage3/.local/lib/python3.10/site-packages (from transformers) (0.20.1)\n",
      "Requirement already satisfied: networkx in /home/hice1/tdeatherage3/.local/lib/python3.10/site-packages (from torch) (3.3)\n",
      "Requirement already satisfied: nvidia-curand-cu12==10.3.2.106 in /home/hice1/tdeatherage3/.local/lib/python3.10/site-packages (from torch) (10.3.2.106)\n",
      "Requirement already satisfied: fsspec in /home/hice1/tdeatherage3/.local/lib/python3.10/site-packages (from torch) (2024.9.0)\n",
      "Requirement already satisfied: nvidia-cufft-cu12==11.0.2.54 in /home/hice1/tdeatherage3/.local/lib/python3.10/site-packages (from torch) (11.0.2.54)\n",
      "Requirement already satisfied: nvidia-cuda-runtime-cu12==12.1.105 in /home/hice1/tdeatherage3/.local/lib/python3.10/site-packages (from torch) (12.1.105)\n",
      "Requirement already satisfied: nvidia-cudnn-cu12==9.1.0.70 in /home/hice1/tdeatherage3/.local/lib/python3.10/site-packages (from torch) (9.1.0.70)\n",
      "Requirement already satisfied: nvidia-nccl-cu12==2.20.5 in /home/hice1/tdeatherage3/.local/lib/python3.10/site-packages (from torch) (2.20.5)\n",
      "Requirement already satisfied: nvidia-cusolver-cu12==11.4.5.107 in /home/hice1/tdeatherage3/.local/lib/python3.10/site-packages (from torch) (11.4.5.107)\n",
      "Requirement already satisfied: nvidia-nvtx-cu12==12.1.105 in /home/hice1/tdeatherage3/.local/lib/python3.10/site-packages (from torch) (12.1.105)\n",
      "Requirement already satisfied: triton==3.0.0 in /home/hice1/tdeatherage3/.local/lib/python3.10/site-packages (from torch) (3.0.0)\n",
      "Requirement already satisfied: typing-extensions>=4.8.0 in /home/hice1/tdeatherage3/.local/lib/python3.10/site-packages (from torch) (4.12.2)\n",
      "Requirement already satisfied: nvidia-cublas-cu12==12.1.3.1 in /home/hice1/tdeatherage3/.local/lib/python3.10/site-packages (from torch) (12.1.3.1)\n",
      "Requirement already satisfied: nvidia-cuda-nvrtc-cu12==12.1.105 in /home/hice1/tdeatherage3/.local/lib/python3.10/site-packages (from torch) (12.1.105)\n",
      "Requirement already satisfied: nvidia-cusparse-cu12==12.1.0.106 in /home/hice1/tdeatherage3/.local/lib/python3.10/site-packages (from torch) (12.1.0.106)\n",
      "Requirement already satisfied: sympy in /home/hice1/tdeatherage3/.local/lib/python3.10/site-packages (from torch) (1.13.3)\n",
      "Requirement already satisfied: nvidia-cuda-cupti-cu12==12.1.105 in /home/hice1/tdeatherage3/.local/lib/python3.10/site-packages (from torch) (12.1.105)\n",
      "Requirement already satisfied: jinja2 in /storage/pace-apps/manual/packages/anaconda3/2023.03/lib/python3.10/site-packages (from torch) (3.1.2)\n",
      "Requirement already satisfied: nvidia-nvjitlink-cu12 in /home/hice1/tdeatherage3/.local/lib/python3.10/site-packages (from nvidia-cusolver-cu12==11.4.5.107->torch) (12.6.68)\n",
      "Requirement already satisfied: tzdata>=2022.7 in /storage/pace-apps/manual/packages/anaconda3/2023.03/lib/python3.10/site-packages (from pandas) (2023.4)\n",
      "Requirement already satisfied: python-dateutil>=2.8.2 in /storage/pace-apps/manual/packages/anaconda3/2023.03/lib/python3.10/site-packages (from pandas) (2.8.2)\n",
      "Requirement already satisfied: pytz>=2020.1 in /storage/pace-apps/manual/packages/anaconda3/2023.03/lib/python3.10/site-packages (from pandas) (2022.7)\n",
      "Requirement already satisfied: six>=1.5 in /storage/pace-apps/manual/packages/anaconda3/2023.03/lib/python3.10/site-packages (from python-dateutil>=2.8.2->pandas) (1.16.0)\n",
      "Requirement already satisfied: MarkupSafe>=2.0 in /storage/pace-apps/manual/packages/anaconda3/2023.03/lib/python3.10/site-packages (from jinja2->torch) (2.1.1)\n",
      "Requirement already satisfied: charset-normalizer<4,>=2 in /storage/pace-apps/manual/packages/anaconda3/2023.03/lib/python3.10/site-packages (from requests->transformers) (2.0.4)\n",
      "Requirement already satisfied: idna<4,>=2.5 in /storage/pace-apps/manual/packages/anaconda3/2023.03/lib/python3.10/site-packages (from requests->transformers) (3.4)\n",
      "Requirement already satisfied: urllib3<1.27,>=1.21.1 in /storage/pace-apps/manual/packages/anaconda3/2023.03/lib/python3.10/site-packages (from requests->transformers) (1.26.15)\n",
      "Requirement already satisfied: certifi>=2017.4.17 in /storage/pace-apps/manual/packages/anaconda3/2023.03/lib/python3.10/site-packages (from requests->transformers) (2024.2.2)\n",
      "Requirement already satisfied: mpmath<1.4,>=1.1.0 in /home/hice1/tdeatherage3/.local/lib/python3.10/site-packages (from sympy->torch) (1.3.0)\n"
     ]
    }
   ],
   "source": [
    "!pip install transformers torch torchvision pandas tqdm pillow huggingface-hub"
   ]
  },
  {
   "cell_type": "markdown",
   "id": "d42af0b6",
   "metadata": {},
   "source": [
    "## Download HuggingFace InternVL2 model and dataset from hugging face"
   ]
  },
  {
   "cell_type": "code",
   "execution_count": 2,
   "id": "8b2a1bf8",
   "metadata": {},
   "outputs": [
    {
     "name": "stderr",
     "output_type": "stream",
     "text": [
      "/usr/local/pace-apps/manual/packages/anaconda3/2023.03/lib/python3.10/site-packages/tqdm/auto.py:21: TqdmWarning: IProgress not found. Please update jupyter and ipywidgets. See https://ipywidgets.readthedocs.io/en/stable/user_install.html\n",
      "  from .autonotebook import tqdm as notebook_tqdm\n"
     ]
    }
   ],
   "source": [
    "from download_script import download_internvl2_model, download_vlm4bio_dataset"
   ]
  },
  {
   "cell_type": "markdown",
   "id": "e655fa55",
   "metadata": {},
   "source": [
    "### Download InternVL2"
   ]
  },
  {
   "cell_type": "code",
   "execution_count": 4,
   "id": "4e193c12",
   "metadata": {},
   "outputs": [
    {
     "name": "stdout",
     "output_type": "stream",
     "text": [
      "Downloading OpenGVLab/InternVL2-2B model...\n"
     ]
    },
    {
     "name": "stderr",
     "output_type": "stream",
     "text": [
      "InternLM2ForCausalLM has generative capabilities, as `prepare_inputs_for_generation` is explicitly overwritten. However, it doesn't directly inherit from `GenerationMixin`. From 👉v4.50👈 onwards, `PreTrainedModel` will NOT inherit from `GenerationMixin`, and this model will lose the ability to call `generate` and other related functions.\n",
      "  - If you're using `trust_remote_code=True`, you can get rid of this warning by loading the model with an auto class. See https://huggingface.co/docs/transformers/en/model_doc/auto#auto-classes\n",
      "  - If you are the owner of the model architecture code, please modify your model class such that it inherits from `GenerationMixin` (after `PreTrainedModel`, otherwise you'll get an exception).\n",
      "  - If you are not the owner of the model architecture class, please contact the model code owner to update it.\n"
     ]
    }
   ],
   "source": [
    "# Uncomment if you want to direcly interact with the model in jupyter\n",
    "#model, tokenizer = download_internvl2_model()"
   ]
  },
  {
   "cell_type": "markdown",
   "id": "1633e747",
   "metadata": {},
   "source": [
    "### Download VLM4Bio Dataset"
   ]
  },
  {
   "cell_type": "code",
   "execution_count": 6,
   "id": "43b43a3c",
   "metadata": {},
   "outputs": [
    {
     "name": "stdout",
     "output_type": "stream",
     "text": [
      "Downloading VLM4Bio dataset...\n"
     ]
    },
    {
     "name": "stderr",
     "output_type": "stream",
     "text": [
      "Fetching 31482 files: 100%|██████████| 31482/31482 [00:20<00:00, 1563.29it/s]"
     ]
    },
    {
     "name": "stdout",
     "output_type": "stream",
     "text": [
      "Dataset downloaded to: /storage/ice1/6/1/tdeatherage3/Image-Captioning/data/VLM4Bio\n"
     ]
    },
    {
     "name": "stderr",
     "output_type": "stream",
     "text": [
      "\n"
     ]
    }
   ],
   "source": [
    "data_dir = download_vlm4bio_dataset()"
   ]
  },
  {
   "cell_type": "code",
   "execution_count": 11,
   "id": "5e6244c9",
   "metadata": {},
   "outputs": [
    {
     "name": "stdout",
     "output_type": "stream",
     "text": [
      "Dataset reorganization completed!\n",
      "\n",
      "Butterfly:\n",
      "  - Number of images: 438\n",
      "  - Number of metadata files: 5\n",
      "\n",
      "Bird:\n",
      "  - Number of images: 11092\n",
      "  - Number of metadata files: 4\n",
      "\n",
      "Fish:\n",
      "  - Number of images: 9114\n",
      "  - Number of metadata files: 4\n"
     ]
    }
   ],
   "source": [
    "# Reorganize the weird VM4Bio structure:\n",
    "\n",
    "import reorganize_vlm4bio\n",
    "\n",
    "reorganize_vlm4bio.reorganize_vlm4bio_dataset()\n",
    "reorganize_vlm4bio.verify_reorganization()"
   ]
  },
  {
   "cell_type": "markdown",
   "id": "57dbed70",
   "metadata": {},
   "source": [
    "# Run Image Captioning Script"
   ]
  },
  {
   "cell_type": "code",
   "execution_count": 1,
   "id": "f8a7e392",
   "metadata": {},
   "outputs": [
    {
     "name": "stderr",
     "output_type": "stream",
     "text": [
      "/usr/local/pace-apps/manual/packages/anaconda3/2023.03/lib/python3.10/site-packages/tqdm/auto.py:21: TqdmWarning: IProgress not found. Please update jupyter and ipywidgets. See https://ipywidgets.readthedocs.io/en/stable/user_install.html\n",
      "  from .autonotebook import tqdm as notebook_tqdm\n"
     ]
    }
   ],
   "source": [
    "import internvl_img_caption as caption_images"
   ]
  },
  {
   "cell_type": "code",
   "execution_count": null,
   "id": "509cc651",
   "metadata": {},
   "outputs": [
    {
     "name": "stderr",
     "output_type": "stream",
     "text": [
      "2024-10-25 15:38:17,202 - INFO - vision_select_layer: -1\n",
      "2024-10-25 15:38:17,203 - INFO - ps_version: v2\n",
      "2024-10-25 15:38:17,204 - INFO - min_dynamic_patch: 1\n",
      "2024-10-25 15:38:17,205 - INFO - max_dynamic_patch: 12\n",
      "2024-10-25 15:38:18,206 - INFO - num_image_token: 256\n",
      "2024-10-25 15:38:18,207 - INFO - ps_version: v2\n",
      "InternLM2ForCausalLM has generative capabilities, as `prepare_inputs_for_generation` is explicitly overwritten. However, it doesn't directly inherit from `GenerationMixin`. From 👉v4.50👈 onwards, `PreTrainedModel` will NOT inherit from `GenerationMixin`, and this model will lose the ability to call `generate` and other related functions.\n",
      "  - If you're using `trust_remote_code=True`, you can get rid of this warning by loading the model with an auto class. See https://huggingface.co/docs/transformers/en/model_doc/auto#auto-classes\n",
      "  - If you are the owner of the model architecture code, please modify your model class such that it inherits from `GenerationMixin` (after `PreTrainedModel`, otherwise you'll get an exception).\n",
      "  - If you are not the owner of the model architecture class, please contact the model code owner to update it.\n",
      "2024-10-25 15:38:20,424 - INFO - \n",
      "Category: Bird\n",
      "2024-10-25 15:38:20,425 - INFO - Total images in directory: 11092\n",
      "2024-10-25 15:38:20,425 - INFO - Total images in metadata: 11092\n",
      "2024-10-25 15:38:20,427 - INFO - Missing images (in metadata but not in directory): 0\n",
      "2024-10-25 15:38:20,429 - INFO - Unlisted images (in directory but not in metadata): 0\n",
      "Processing Bird:  87%|████████▋ | 9657/11092 [1:22:31<13:24,  1.78it/s]IOPub message rate exceeded.\n",
      "The notebook server will temporarily stop sending output\n",
      "to the client in order to avoid crashing it.\n",
      "To change this limit, set the config variable\n",
      "`--NotebookApp.iopub_msg_rate_limit`.\n",
      "\n",
      "Current values:\n",
      "NotebookApp.iopub_msg_rate_limit=1000.0 (msgs/sec)\n",
      "NotebookApp.rate_limit_window=3.0 (secs)\n",
      "\n",
      "Processing Fish:  20%|█▉        | 1800/9114 [18:51<1:14:19,  1.64it/s]"
     ]
    }
   ],
   "source": [
    "data_dir = \"data/VLM4Bio\"\n",
    "output_path = \"vlm4bio_captions.csv\"\n",
    "\n",
    "caption_images.process_vlm4bio_dataset(data_dir, output_path)\n"
   ]
  },
  {
   "cell_type": "code",
   "execution_count": null,
   "id": "8fb9c8f7",
   "metadata": {},
   "outputs": [],
   "source": []
  }
 ],
 "metadata": {
  "kernelspec": {
   "display_name": "Python 3 (ipykernel)",
   "language": "python",
   "name": "python3"
  },
  "language_info": {
   "codemirror_mode": {
    "name": "ipython",
    "version": 3
   },
   "file_extension": ".py",
   "mimetype": "text/x-python",
   "name": "python",
   "nbconvert_exporter": "python",
   "pygments_lexer": "ipython3",
   "version": "3.10.13"
  }
 },
 "nbformat": 4,
 "nbformat_minor": 5
}
