{
 "cells": [
  {
   "cell_type": "markdown",
   "id": "0f623466",
   "metadata": {},
   "source": [
    "# Image Captioning with InternVL\n"
   ]
  },
  {
   "cell_type": "code",
   "execution_count": 4,
   "id": "5299b526",
   "metadata": {},
   "outputs": [
    {
     "name": "stdout",
     "output_type": "stream",
     "text": [
      "Defaulting to user installation because normal site-packages is not writeable\n",
      "Requirement already satisfied: transformers in /home/hice1/tdeatherage3/.local/lib/python3.10/site-packages (4.45.2)\n",
      "Requirement already satisfied: torch in /home/hice1/tdeatherage3/.local/lib/python3.10/site-packages (2.4.1)\n",
      "Requirement already satisfied: torchvision in /home/hice1/tdeatherage3/.local/lib/python3.10/site-packages (0.19.1)\n",
      "Requirement already satisfied: pandas in /storage/pace-apps/manual/packages/anaconda3/2023.03/lib/python3.10/site-packages (2.2.0)\n",
      "Requirement already satisfied: tqdm in /storage/pace-apps/manual/packages/anaconda3/2023.03/lib/python3.10/site-packages (4.65.0)\n",
      "Requirement already satisfied: pillow in /storage/pace-apps/manual/packages/anaconda3/2023.03/lib/python3.10/site-packages (9.4.0)\n",
      "Requirement already satisfied: huggingface-hub in /home/hice1/tdeatherage3/.local/lib/python3.10/site-packages (0.25.1)\n",
      "Requirement already satisfied: requests in /storage/pace-apps/manual/packages/anaconda3/2023.03/lib/python3.10/site-packages (from transformers) (2.29.0)\n",
      "Requirement already satisfied: regex!=2019.12.17 in /home/hice1/tdeatherage3/.local/lib/python3.10/site-packages (from transformers) (2024.9.11)\n",
      "Requirement already satisfied: pyyaml>=5.1 in /storage/pace-apps/manual/packages/anaconda3/2023.03/lib/python3.10/site-packages (from transformers) (6.0)\n",
      "Requirement already satisfied: filelock in /storage/pace-apps/manual/packages/anaconda3/2023.03/lib/python3.10/site-packages (from transformers) (3.9.0)\n",
      "Requirement already satisfied: safetensors>=0.4.1 in /home/hice1/tdeatherage3/.local/lib/python3.10/site-packages (from transformers) (0.4.5)\n",
      "Requirement already satisfied: packaging>=20.0 in /storage/pace-apps/manual/packages/anaconda3/2023.03/lib/python3.10/site-packages (from transformers) (23.0)\n",
      "Requirement already satisfied: numpy>=1.17 in /home/hice1/tdeatherage3/.local/lib/python3.10/site-packages (from transformers) (1.26.4)\n",
      "Requirement already satisfied: tokenizers<0.21,>=0.20 in /home/hice1/tdeatherage3/.local/lib/python3.10/site-packages (from transformers) (0.20.1)\n",
      "Requirement already satisfied: networkx in /home/hice1/tdeatherage3/.local/lib/python3.10/site-packages (from torch) (3.3)\n",
      "Requirement already satisfied: nvidia-curand-cu12==10.3.2.106 in /home/hice1/tdeatherage3/.local/lib/python3.10/site-packages (from torch) (10.3.2.106)\n",
      "Requirement already satisfied: fsspec in /home/hice1/tdeatherage3/.local/lib/python3.10/site-packages (from torch) (2024.9.0)\n",
      "Requirement already satisfied: nvidia-cufft-cu12==11.0.2.54 in /home/hice1/tdeatherage3/.local/lib/python3.10/site-packages (from torch) (11.0.2.54)\n",
      "Requirement already satisfied: nvidia-cuda-runtime-cu12==12.1.105 in /home/hice1/tdeatherage3/.local/lib/python3.10/site-packages (from torch) (12.1.105)\n",
      "Requirement already satisfied: nvidia-cudnn-cu12==9.1.0.70 in /home/hice1/tdeatherage3/.local/lib/python3.10/site-packages (from torch) (9.1.0.70)\n",
      "Requirement already satisfied: nvidia-nccl-cu12==2.20.5 in /home/hice1/tdeatherage3/.local/lib/python3.10/site-packages (from torch) (2.20.5)\n",
      "Requirement already satisfied: nvidia-cusolver-cu12==11.4.5.107 in /home/hice1/tdeatherage3/.local/lib/python3.10/site-packages (from torch) (11.4.5.107)\n",
      "Requirement already satisfied: nvidia-nvtx-cu12==12.1.105 in /home/hice1/tdeatherage3/.local/lib/python3.10/site-packages (from torch) (12.1.105)\n",
      "Requirement already satisfied: triton==3.0.0 in /home/hice1/tdeatherage3/.local/lib/python3.10/site-packages (from torch) (3.0.0)\n",
      "Requirement already satisfied: typing-extensions>=4.8.0 in /home/hice1/tdeatherage3/.local/lib/python3.10/site-packages (from torch) (4.12.2)\n",
      "Requirement already satisfied: nvidia-cublas-cu12==12.1.3.1 in /home/hice1/tdeatherage3/.local/lib/python3.10/site-packages (from torch) (12.1.3.1)\n",
      "Requirement already satisfied: nvidia-cuda-nvrtc-cu12==12.1.105 in /home/hice1/tdeatherage3/.local/lib/python3.10/site-packages (from torch) (12.1.105)\n",
      "Requirement already satisfied: nvidia-cusparse-cu12==12.1.0.106 in /home/hice1/tdeatherage3/.local/lib/python3.10/site-packages (from torch) (12.1.0.106)\n",
      "Requirement already satisfied: sympy in /home/hice1/tdeatherage3/.local/lib/python3.10/site-packages (from torch) (1.13.3)\n",
      "Requirement already satisfied: nvidia-cuda-cupti-cu12==12.1.105 in /home/hice1/tdeatherage3/.local/lib/python3.10/site-packages (from torch) (12.1.105)\n",
      "Requirement already satisfied: jinja2 in /storage/pace-apps/manual/packages/anaconda3/2023.03/lib/python3.10/site-packages (from torch) (3.1.2)\n",
      "Requirement already satisfied: nvidia-nvjitlink-cu12 in /home/hice1/tdeatherage3/.local/lib/python3.10/site-packages (from nvidia-cusolver-cu12==11.4.5.107->torch) (12.6.68)\n",
      "Requirement already satisfied: tzdata>=2022.7 in /storage/pace-apps/manual/packages/anaconda3/2023.03/lib/python3.10/site-packages (from pandas) (2023.4)\n",
      "Requirement already satisfied: python-dateutil>=2.8.2 in /storage/pace-apps/manual/packages/anaconda3/2023.03/lib/python3.10/site-packages (from pandas) (2.8.2)\n",
      "Requirement already satisfied: pytz>=2020.1 in /storage/pace-apps/manual/packages/anaconda3/2023.03/lib/python3.10/site-packages (from pandas) (2022.7)\n",
      "Requirement already satisfied: six>=1.5 in /storage/pace-apps/manual/packages/anaconda3/2023.03/lib/python3.10/site-packages (from python-dateutil>=2.8.2->pandas) (1.16.0)\n",
      "Requirement already satisfied: MarkupSafe>=2.0 in /storage/pace-apps/manual/packages/anaconda3/2023.03/lib/python3.10/site-packages (from jinja2->torch) (2.1.1)\n",
      "Requirement already satisfied: charset-normalizer<4,>=2 in /storage/pace-apps/manual/packages/anaconda3/2023.03/lib/python3.10/site-packages (from requests->transformers) (2.0.4)\n",
      "Requirement already satisfied: idna<4,>=2.5 in /storage/pace-apps/manual/packages/anaconda3/2023.03/lib/python3.10/site-packages (from requests->transformers) (3.4)\n",
      "Requirement already satisfied: urllib3<1.27,>=1.21.1 in /storage/pace-apps/manual/packages/anaconda3/2023.03/lib/python3.10/site-packages (from requests->transformers) (1.26.15)\n",
      "Requirement already satisfied: certifi>=2017.4.17 in /storage/pace-apps/manual/packages/anaconda3/2023.03/lib/python3.10/site-packages (from requests->transformers) (2024.2.2)\n",
      "Requirement already satisfied: mpmath<1.4,>=1.1.0 in /home/hice1/tdeatherage3/.local/lib/python3.10/site-packages (from sympy->torch) (1.3.0)\n"
     ]
    }
   ],
   "source": [
    "!pip install transformers torch torchvision pandas tqdm pillow huggingface-hub"
   ]
  },
  {
   "cell_type": "markdown",
   "id": "d42af0b6",
   "metadata": {},
   "source": [
    "## Download HuggingFace InternVL2 model and dataset from hugging face"
   ]
  },
  {
   "cell_type": "code",
   "execution_count": 2,
   "id": "8b2a1bf8",
   "metadata": {},
   "outputs": [
    {
     "name": "stderr",
     "output_type": "stream",
     "text": [
      "/usr/local/pace-apps/manual/packages/anaconda3/2023.03/lib/python3.10/site-packages/tqdm/auto.py:21: TqdmWarning: IProgress not found. Please update jupyter and ipywidgets. See https://ipywidgets.readthedocs.io/en/stable/user_install.html\n",
      "  from .autonotebook import tqdm as notebook_tqdm\n"
     ]
    }
   ],
   "source": [
    "from download_script import download_internvl2_model, download_vlm4bio_dataset"
   ]
  },
  {
   "cell_type": "markdown",
   "id": "e655fa55",
   "metadata": {},
   "source": [
    "### Download InternVL2"
   ]
  },
  {
   "cell_type": "code",
   "execution_count": 4,
   "id": "4e193c12",
   "metadata": {},
   "outputs": [
    {
     "name": "stdout",
     "output_type": "stream",
     "text": [
      "Downloading OpenGVLab/InternVL2-2B model...\n"
     ]
    },
    {
     "name": "stderr",
     "output_type": "stream",
     "text": [
      "InternLM2ForCausalLM has generative capabilities, as `prepare_inputs_for_generation` is explicitly overwritten. However, it doesn't directly inherit from `GenerationMixin`. From 👉v4.50👈 onwards, `PreTrainedModel` will NOT inherit from `GenerationMixin`, and this model will lose the ability to call `generate` and other related functions.\n",
      "  - If you're using `trust_remote_code=True`, you can get rid of this warning by loading the model with an auto class. See https://huggingface.co/docs/transformers/en/model_doc/auto#auto-classes\n",
      "  - If you are the owner of the model architecture code, please modify your model class such that it inherits from `GenerationMixin` (after `PreTrainedModel`, otherwise you'll get an exception).\n",
      "  - If you are not the owner of the model architecture class, please contact the model code owner to update it.\n"
     ]
    }
   ],
   "source": [
    "# Uncomment if you want to direcly interact with the model in jupyter\n",
    "#model, tokenizer = download_internvl2_model()"
   ]
  },
  {
   "cell_type": "markdown",
   "id": "1633e747",
   "metadata": {},
   "source": [
    "### Download VLM4Bio Dataset"
   ]
  },
  {
   "cell_type": "code",
   "execution_count": 6,
   "id": "43b43a3c",
   "metadata": {},
   "outputs": [
    {
     "name": "stdout",
     "output_type": "stream",
     "text": [
      "Downloading VLM4Bio dataset...\n"
     ]
    },
    {
     "name": "stderr",
     "output_type": "stream",
     "text": [
      "Fetching 31482 files: 100%|██████████| 31482/31482 [00:20<00:00, 1563.29it/s]"
     ]
    },
    {
     "name": "stdout",
     "output_type": "stream",
     "text": [
      "Dataset downloaded to: /storage/ice1/6/1/tdeatherage3/Image-Captioning/data/VLM4Bio\n"
     ]
    },
    {
     "name": "stderr",
     "output_type": "stream",
     "text": [
      "\n"
     ]
    }
   ],
   "source": [
    "data_dir = download_vlm4bio_dataset()"
   ]
  },
  {
   "cell_type": "code",
   "execution_count": 1,
   "id": "5e6244c9",
   "metadata": {},
   "outputs": [
    {
     "name": "stdout",
     "output_type": "stream",
     "text": [
      "Dataset reorganization completed!\n",
      "\n",
      "Butterfly:\n",
      "  - Number of images: 10013\n",
      "\n",
      "Bird:\n",
      "  - Number of images: 11092\n",
      "\n",
      "Fish:\n",
      "  - Number of images: 10347\n"
     ]
    }
   ],
   "source": [
    "# Reorganize the weird VM4Bio structure:\n",
    "\n",
    "import reorganize_vlm4bio\n",
    "\n",
    "reorganize_vlm4bio.reorganize_vlm4bio_dataset()\n",
    "reorganize_vlm4bio.verify_reorganization()"
   ]
  },
  {
   "cell_type": "markdown",
   "id": "57dbed70",
   "metadata": {},
   "source": [
    "# Run Image Captioning Script"
   ]
  },
  {
   "cell_type": "code",
   "execution_count": 1,
   "id": "f8a7e392",
   "metadata": {},
   "outputs": [
    {
     "name": "stderr",
     "output_type": "stream",
     "text": [
      "/usr/local/pace-apps/manual/packages/anaconda3/2023.03/lib/python3.10/site-packages/tqdm/auto.py:21: TqdmWarning: IProgress not found. Please update jupyter and ipywidgets. See https://ipywidgets.readthedocs.io/en/stable/user_install.html\n",
      "  from .autonotebook import tqdm as notebook_tqdm\n"
     ]
    }
   ],
   "source": [
    "import internvl_img_caption as caption_images"
   ]
  },
  {
   "cell_type": "code",
   "execution_count": 2,
   "id": "509cc651",
   "metadata": {},
   "outputs": [
    {
     "name": "stderr",
     "output_type": "stream",
     "text": [
      "2024-11-06 10:57:00,071 - INFO - vision_select_layer: -1\n",
      "2024-11-06 10:57:00,083 - INFO - ps_version: v2\n",
      "2024-11-06 10:57:00,085 - INFO - min_dynamic_patch: 1\n",
      "2024-11-06 10:57:00,085 - INFO - max_dynamic_patch: 12\n",
      "2024-11-06 10:57:01,962 - INFO - num_image_token: 256\n",
      "2024-11-06 10:57:01,962 - INFO - ps_version: v2\n",
      "InternLM2ForCausalLM has generative capabilities, as `prepare_inputs_for_generation` is explicitly overwritten. However, it doesn't directly inherit from `GenerationMixin`. From 👉v4.50👈 onwards, `PreTrainedModel` will NOT inherit from `GenerationMixin`, and this model will lose the ability to call `generate` and other related functions.\n",
      "  - If you're using `trust_remote_code=True`, you can get rid of this warning by loading the model with an auto class. See https://huggingface.co/docs/transformers/en/model_doc/auto#auto-classes\n",
      "  - If you are the owner of the model architecture code, please modify your model class such that it inherits from `GenerationMixin` (after `PreTrainedModel`, otherwise you'll get an exception).\n",
      "  - If you are not the owner of the model architecture class, please contact the model code owner to update it.\n",
      "2024-11-06 10:57:14,521 - INFO - \n",
      "Category: Bird\n",
      "2024-11-06 10:57:14,522 - INFO - Total images in directory: 11092\n",
      "2024-11-06 10:57:14,524 - INFO - Total images in metadata: 11092\n",
      "2024-11-06 10:57:14,524 - INFO - Missing images (in metadata but not in directory): 0\n",
      "2024-11-06 10:57:14,525 - INFO - Unlisted images (in directory but not in metadata): 0\n",
      "Processing Bird: 100%|██████████| 11092/11092 [1:39:36<00:00,  1.86it/s]\n",
      "2024-11-06 12:36:51,705 - INFO - \n",
      "Category: Fish\n",
      "2024-11-06 12:36:51,705 - INFO - Total images in directory: 10347\n",
      "2024-11-06 12:36:51,706 - INFO - Total images in metadata: 10347\n",
      "2024-11-06 12:36:51,707 - INFO - Missing images (in metadata but not in directory): 0\n",
      "2024-11-06 12:36:51,707 - INFO - Unlisted images (in directory but not in metadata): 0\n",
      "Processing Fish: 100%|██████████| 10347/10347 [1:45:20<00:00,  1.64it/s]\n",
      "2024-11-06 14:22:13,016 - INFO - \n",
      "Category: Butterfly\n",
      "2024-11-06 14:22:13,027 - INFO - Total images in directory: 10013\n",
      "2024-11-06 14:22:13,028 - INFO - Total images in metadata: 10013\n",
      "2024-11-06 14:22:13,028 - INFO - Missing images (in metadata but not in directory): 0\n",
      "2024-11-06 14:22:13,029 - INFO - Unlisted images (in directory but not in metadata): 0\n",
      "Processing Butterfly:   3%|▎         | 272/10013 [02:01<1:08:51,  2.36it/s]IOPub message rate exceeded.\n",
      "The notebook server will temporarily stop sending output\n",
      "to the client in order to avoid crashing it.\n",
      "To change this limit, set the config variable\n",
      "`--NotebookApp.iopub_msg_rate_limit`.\n",
      "\n",
      "Current values:\n",
      "NotebookApp.iopub_msg_rate_limit=1000.0 (msgs/sec)\n",
      "NotebookApp.rate_limit_window=3.0 (secs)\n",
      "\n",
      "Processing Butterfly: 100%|██████████| 10013/10013 [1:16:33<00:00,  2.18it/s]\n",
      "2024-11-06 15:38:46,463 - INFO - Processing completed. Results saved to vlm4bio_captions.csv\n"
     ]
    }
   ],
   "source": [
    "data_dir = \"data/VLM4Bio\"\n",
    "output_path = \"vlm4bio_captions.csv\"\n",
    "\n",
    "caption_images.process_vlm4bio_dataset(data_dir, output_path)\n"
   ]
  },
  {
   "cell_type": "markdown",
   "id": "99afa4ba",
   "metadata": {},
   "source": [
    "## Split Training and Test data"
   ]
  },
  {
   "cell_type": "code",
   "execution_count": 1,
   "id": "700d1435",
   "metadata": {},
   "outputs": [],
   "source": [
    "import train_test_split"
   ]
  },
  {
   "cell_type": "code",
   "execution_count": 2,
   "id": "961a5f32",
   "metadata": {},
   "outputs": [
    {
     "name": "stdout",
     "output_type": "stream",
     "text": [
      "\n",
      "Dataset split statistics:\n",
      "-------------------------\n",
      "\n",
      "Bird:\n",
      "Training samples: 7764\n",
      "Test samples: 3328\n",
      "\n",
      "Fish:\n",
      "Training samples: 7242\n",
      "Test samples: 3105\n",
      "\n",
      "Butterfly:\n",
      "Training samples: 7009\n",
      "Test samples: 3004\n"
     ]
    },
    {
     "data": {
      "text/html": [
       "<div>\n",
       "<style scoped>\n",
       "    .dataframe tbody tr th:only-of-type {\n",
       "        vertical-align: middle;\n",
       "    }\n",
       "\n",
       "    .dataframe tbody tr th {\n",
       "        vertical-align: top;\n",
       "    }\n",
       "\n",
       "    .dataframe thead th {\n",
       "        text-align: right;\n",
       "    }\n",
       "</style>\n",
       "<table border=\"1\" class=\"dataframe\">\n",
       "  <thead>\n",
       "    <tr style=\"text-align: right;\">\n",
       "      <th></th>\n",
       "      <th>category</th>\n",
       "      <th>image_name</th>\n",
       "      <th>scientific_name</th>\n",
       "      <th>caption</th>\n",
       "      <th>image_path</th>\n",
       "      <th>has_metadata</th>\n",
       "      <th>split</th>\n",
       "    </tr>\n",
       "  </thead>\n",
       "  <tbody>\n",
       "    <tr>\n",
       "      <th>0</th>\n",
       "      <td>Bird</td>\n",
       "      <td>Red_Headed_Woodpecker_0011_182803.jpg</td>\n",
       "      <td>Melanerpes erythrocephalus</td>\n",
       "      <td>This image depicts a Melanerpes erythrocephalu...</td>\n",
       "      <td>data/VLM4Bio/datasets/Bird/images/Red_Headed_W...</td>\n",
       "      <td>True</td>\n",
       "      <td>train</td>\n",
       "    </tr>\n",
       "    <tr>\n",
       "      <th>1</th>\n",
       "      <td>Bird</td>\n",
       "      <td>Belted_Kingfisher_0032_70573.jpg</td>\n",
       "      <td>Megaceryle alcyon</td>\n",
       "      <td>This image depicts Megaceryle alcyon, a majest...</td>\n",
       "      <td>data/VLM4Bio/datasets/Bird/images/Belted_Kingf...</td>\n",
       "      <td>True</td>\n",
       "      <td>test</td>\n",
       "    </tr>\n",
       "    <tr>\n",
       "      <th>2</th>\n",
       "      <td>Bird</td>\n",
       "      <td>Slaty_Backed_Gull_0023_796030.jpg</td>\n",
       "      <td>Larus schistisagus</td>\n",
       "      <td>This image depicts a Larus schistisagus, a sea...</td>\n",
       "      <td>data/VLM4Bio/datasets/Bird/images/Slaty_Backed...</td>\n",
       "      <td>True</td>\n",
       "      <td>train</td>\n",
       "    </tr>\n",
       "    <tr>\n",
       "      <th>3</th>\n",
       "      <td>Bird</td>\n",
       "      <td>Brewer_Sparrow_0024_107439.jpg</td>\n",
       "      <td>Spizella breweri</td>\n",
       "      <td>This image depicts a Spizella breweri bird per...</td>\n",
       "      <td>data/VLM4Bio/datasets/Bird/images/Brewer_Sparr...</td>\n",
       "      <td>True</td>\n",
       "      <td>train</td>\n",
       "    </tr>\n",
       "    <tr>\n",
       "      <th>4</th>\n",
       "      <td>Bird</td>\n",
       "      <td>Magnolia_Warbler_0090_166087.jpg</td>\n",
       "      <td>Setophaga magnolia</td>\n",
       "      <td>The image depicts a Setophaga magnolia, a brig...</td>\n",
       "      <td>data/VLM4Bio/datasets/Bird/images/Magnolia_War...</td>\n",
       "      <td>True</td>\n",
       "      <td>test</td>\n",
       "    </tr>\n",
       "    <tr>\n",
       "      <th>...</th>\n",
       "      <td>...</td>\n",
       "      <td>...</td>\n",
       "      <td>...</td>\n",
       "      <td>...</td>\n",
       "      <td>...</td>\n",
       "      <td>...</td>\n",
       "      <td>...</td>\n",
       "    </tr>\n",
       "    <tr>\n",
       "      <th>31447</th>\n",
       "      <td>Butterfly</td>\n",
       "      <td>Butterfly_imbalanced_train_Heliconius_melpomen...</td>\n",
       "      <td>Heliconius melpomene</td>\n",
       "      <td>Heliconius melpomene, commonly known as the bu...</td>\n",
       "      <td>data/VLM4Bio/datasets/Butterfly/images/Butterf...</td>\n",
       "      <td>True</td>\n",
       "      <td>train</td>\n",
       "    </tr>\n",
       "    <tr>\n",
       "      <th>31448</th>\n",
       "      <td>Butterfly</td>\n",
       "      <td>Butterfly_imbalanced_train_Mechanitis_lysimnia...</td>\n",
       "      <td>Mechanitis lysimnia</td>\n",
       "      <td>The image shows a close-up of two wings of Mec...</td>\n",
       "      <td>data/VLM4Bio/datasets/Butterfly/images/Butterf...</td>\n",
       "      <td>True</td>\n",
       "      <td>test</td>\n",
       "    </tr>\n",
       "    <tr>\n",
       "      <th>31449</th>\n",
       "      <td>Butterfly</td>\n",
       "      <td>Butterfly_imbalanced_train_Heliconius_elevatus...</td>\n",
       "      <td>Heliconius elevatus</td>\n",
       "      <td>Heliconius elevatus, commonly known as the but...</td>\n",
       "      <td>data/VLM4Bio/datasets/Butterfly/images/Butterf...</td>\n",
       "      <td>True</td>\n",
       "      <td>train</td>\n",
       "    </tr>\n",
       "    <tr>\n",
       "      <th>31450</th>\n",
       "      <td>Butterfly</td>\n",
       "      <td>Butterfly_imbalanced_train_Heliconius_telesiph...</td>\n",
       "      <td>Heliconius telesiphe</td>\n",
       "      <td>Heliconius telesiphe, a butterfly with iridesc...</td>\n",
       "      <td>data/VLM4Bio/datasets/Butterfly/images/Butterf...</td>\n",
       "      <td>True</td>\n",
       "      <td>test</td>\n",
       "    </tr>\n",
       "    <tr>\n",
       "      <th>31451</th>\n",
       "      <td>Butterfly</td>\n",
       "      <td>Butterfly_imbalanced_train_Heliconius_cydno_25...</td>\n",
       "      <td>Heliconius cydno</td>\n",
       "      <td>Heliconius cydno is a butterfly with black win...</td>\n",
       "      <td>data/VLM4Bio/datasets/Butterfly/images/Butterf...</td>\n",
       "      <td>True</td>\n",
       "      <td>train</td>\n",
       "    </tr>\n",
       "  </tbody>\n",
       "</table>\n",
       "<p>31452 rows × 7 columns</p>\n",
       "</div>"
      ],
      "text/plain": [
       "        category                                         image_name  \\\n",
       "0           Bird              Red_Headed_Woodpecker_0011_182803.jpg   \n",
       "1           Bird                   Belted_Kingfisher_0032_70573.jpg   \n",
       "2           Bird                  Slaty_Backed_Gull_0023_796030.jpg   \n",
       "3           Bird                     Brewer_Sparrow_0024_107439.jpg   \n",
       "4           Bird                   Magnolia_Warbler_0090_166087.jpg   \n",
       "...          ...                                                ...   \n",
       "31447  Butterfly  Butterfly_imbalanced_train_Heliconius_melpomen...   \n",
       "31448  Butterfly  Butterfly_imbalanced_train_Mechanitis_lysimnia...   \n",
       "31449  Butterfly  Butterfly_imbalanced_train_Heliconius_elevatus...   \n",
       "31450  Butterfly  Butterfly_imbalanced_train_Heliconius_telesiph...   \n",
       "31451  Butterfly  Butterfly_imbalanced_train_Heliconius_cydno_25...   \n",
       "\n",
       "                  scientific_name  \\\n",
       "0      Melanerpes erythrocephalus   \n",
       "1               Megaceryle alcyon   \n",
       "2              Larus schistisagus   \n",
       "3                Spizella breweri   \n",
       "4              Setophaga magnolia   \n",
       "...                           ...   \n",
       "31447        Heliconius melpomene   \n",
       "31448         Mechanitis lysimnia   \n",
       "31449         Heliconius elevatus   \n",
       "31450        Heliconius telesiphe   \n",
       "31451            Heliconius cydno   \n",
       "\n",
       "                                                 caption  \\\n",
       "0      This image depicts a Melanerpes erythrocephalu...   \n",
       "1      This image depicts Megaceryle alcyon, a majest...   \n",
       "2      This image depicts a Larus schistisagus, a sea...   \n",
       "3      This image depicts a Spizella breweri bird per...   \n",
       "4      The image depicts a Setophaga magnolia, a brig...   \n",
       "...                                                  ...   \n",
       "31447  Heliconius melpomene, commonly known as the bu...   \n",
       "31448  The image shows a close-up of two wings of Mec...   \n",
       "31449  Heliconius elevatus, commonly known as the but...   \n",
       "31450  Heliconius telesiphe, a butterfly with iridesc...   \n",
       "31451  Heliconius cydno is a butterfly with black win...   \n",
       "\n",
       "                                              image_path  has_metadata  split  \n",
       "0      data/VLM4Bio/datasets/Bird/images/Red_Headed_W...          True  train  \n",
       "1      data/VLM4Bio/datasets/Bird/images/Belted_Kingf...          True   test  \n",
       "2      data/VLM4Bio/datasets/Bird/images/Slaty_Backed...          True  train  \n",
       "3      data/VLM4Bio/datasets/Bird/images/Brewer_Sparr...          True  train  \n",
       "4      data/VLM4Bio/datasets/Bird/images/Magnolia_War...          True   test  \n",
       "...                                                  ...           ...    ...  \n",
       "31447  data/VLM4Bio/datasets/Butterfly/images/Butterf...          True  train  \n",
       "31448  data/VLM4Bio/datasets/Butterfly/images/Butterf...          True   test  \n",
       "31449  data/VLM4Bio/datasets/Butterfly/images/Butterf...          True  train  \n",
       "31450  data/VLM4Bio/datasets/Butterfly/images/Butterf...          True   test  \n",
       "31451  data/VLM4Bio/datasets/Butterfly/images/Butterf...          True  train  \n",
       "\n",
       "[31452 rows x 7 columns]"
      ]
     },
     "execution_count": 2,
     "metadata": {},
     "output_type": "execute_result"
    }
   ],
   "source": [
    "train_test_split.create_train_test_split('vlm4bio_captions.csv')"
   ]
  }
 ],
 "metadata": {
  "kernelspec": {
   "display_name": "Python 3 (ipykernel)",
   "language": "python",
   "name": "python3"
  },
  "language_info": {
   "codemirror_mode": {
    "name": "ipython",
    "version": 3
   },
   "file_extension": ".py",
   "mimetype": "text/x-python",
   "name": "python",
   "nbconvert_exporter": "python",
   "pygments_lexer": "ipython3",
   "version": "3.10.13"
  }
 },
 "nbformat": 4,
 "nbformat_minor": 5
}
