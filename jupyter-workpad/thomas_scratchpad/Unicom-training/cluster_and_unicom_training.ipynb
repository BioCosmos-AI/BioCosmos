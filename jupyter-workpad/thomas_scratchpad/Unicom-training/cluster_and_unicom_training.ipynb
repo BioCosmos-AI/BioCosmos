{
 "cells": [
  {
   "cell_type": "markdown",
   "id": "ac6affff",
   "metadata": {},
   "source": [
    "# UNICOM"
   ]
  },
  {
   "cell_type": "markdown",
   "id": "769ff447",
   "metadata": {},
   "source": [
    "## Dependencies"
   ]
  },
  {
   "cell_type": "code",
   "execution_count": null,
   "id": "00820f2d",
   "metadata": {},
   "outputs": [],
   "source": [
    "!pip install torch torchvision tqdm timm pillow faiss-gpu"
   ]
  },
  {
   "cell_type": "markdown",
   "id": "961d3a28",
   "metadata": {},
   "source": [
    "## K-Means Clustering"
   ]
  },
  {
   "cell_type": "markdown",
   "id": "e906ea2f",
   "metadata": {},
   "source": [
    "### Generate embeddings"
   ]
  },
  {
   "cell_type": "code",
   "execution_count": null,
   "id": "350d6252",
   "metadata": {},
   "outputs": [],
   "source": [
    "!pip install git+https://github.com/openai/CLIP.git"
   ]
  },
  {
   "cell_type": "code",
   "execution_count": null,
   "id": "770236fb",
   "metadata": {},
   "outputs": [],
   "source": [
    "import Clustering.generate_embeddings as embed"
   ]
  },
  {
   "cell_type": "code",
   "execution_count": null,
   "id": "2fa3e349",
   "metadata": {},
   "outputs": [],
   "source": [
    "embed.process_and_save_embeddings(\n",
    "        csv_path=\"../Image-Captioning/vlm4bio_captions_with_split.csv\",\n",
    "        base_path=\"../Image-Captioning\",\n",
    "        batch_size=32,\n",
    "        save_every=1000,\n",
    "        cohort='train'\n",
    "    )"
   ]
  },
  {
   "cell_type": "markdown",
   "id": "30888be4",
   "metadata": {},
   "source": [
    "### Generate Clusters from embeddings"
   ]
  },
  {
   "cell_type": "code",
   "execution_count": 1,
   "id": "2b0f1c42",
   "metadata": {},
   "outputs": [],
   "source": [
    "import Clustering.generate_clusters as cluster"
   ]
  },
  {
   "cell_type": "code",
   "execution_count": null,
   "id": "f9749505",
   "metadata": {},
   "outputs": [],
   "source": [
    "# NOTE -- the name of this is dependent on the model used (see code) in the embed.process_and_save_embeddings step\n",
    "embeddings_dir = \"embeddings_train_ViT-H-14-378-quickgelu\"\n",
    "\n",
    "cluster.combine_and_cluster(embeddings_dir=embeddings_dir, n_clusters=100)\n",
    "cluster.combine_and_cluster(embeddings_dir=embeddings_dir, n_clusters=500)\n",
    "cluster.combine_and_cluster(embeddings_dir=embeddings_dir, n_clusters=1000)\n",
    "cluster.combine_and_cluster(embeddings_dir=embeddings_dir, n_clusters=2000)\n",
    "cluster.combine_and_cluster(embeddings_dir=embeddings_dir, n_clusters=3000)"
   ]
  },
  {
   "cell_type": "markdown",
   "id": "468008d3",
   "metadata": {},
   "source": [
    "## Training with Unicom"
   ]
  },
  {
   "cell_type": "markdown",
   "id": "19b6ce89",
   "metadata": {},
   "source": [
    "### Setup training parameters"
   ]
  },
  {
   "cell_type": "code",
   "execution_count": null,
   "id": "8e4c56cb",
   "metadata": {},
   "outputs": [],
   "source": [
    "import os\n",
    "os.environ[\"CUDA_VISIBLE_DEVICES\"] = \"0\"\n",
    "\n",
    "# Create the config\n",
    "from retrieval import Config, main\n",
    "\n",
    "config = Config()\n",
    "config.batch_size = 128\n",
    "config.epochs = 32\n",
    "config.lr = 1e-5 # Match Roman\n",
    "config.model_name = \"ViT-B/32\""
   ]
  },
  {
   "cell_type": "markdown",
   "id": "cff46a8a",
   "metadata": {},
   "source": [
    "## cluster count n = 100"
   ]
  },
  {
   "cell_type": "code",
   "execution_count": null,
   "id": "121bc4ad",
   "metadata": {},
   "outputs": [],
   "source": [
    "\n",
    "config.cluster_results_path = \"embeddings_train_ViT-H-14-378-quickgelu/clustering_results_100_clusters.csv\"\n",
    "config.save_dir = \"checkpoints_ViT-H-14-378-quickgelu_cluster_100\"  # Specify custom save directory to save weights for later perf eval.\n",
    "\n",
    "\n",
    "# Add a flag to indicate we're not using distributed training\n",
    "#config.use_distributed = False\n",
    "\n",
    "# Run training\n",
    "log_file = main(config)\n",
    "print(\"Training loss data printed to: \", log_file)\n"
   ]
  },
  {
   "cell_type": "markdown",
   "id": "dd3d9709",
   "metadata": {},
   "source": [
    "## Training Clusters n = 500, 1000, 2000, 3000"
   ]
  },
  {
   "cell_type": "markdown",
   "id": "4a504370",
   "metadata": {},
   "source": [
    "### n = 500"
   ]
  },
  {
   "cell_type": "code",
   "execution_count": null,
   "id": "62476332",
   "metadata": {},
   "outputs": [],
   "source": [
    "config.cluster_results_path = \"embeddings_train_ViT-H-14-378-quickgelu/clustering_results_500_clusters.csv\"\n",
    "config.save_dir = \"checkpoints_ViT-H-14-378-quickgelu_cluster_500\"  # Specify custom save directory to save weights for later perf eval.\n",
    "# Run training\n",
    "log_file = main(config)"
   ]
  },
  {
   "cell_type": "markdown",
   "id": "5758f6cb",
   "metadata": {},
   "source": [
    "### n = 1000"
   ]
  },
  {
   "cell_type": "code",
   "execution_count": null,
   "id": "d29653b0",
   "metadata": {},
   "outputs": [],
   "source": [
    "config.cluster_results_path = \"embeddings_train_ViT-H-14-378-quickgelu/clustering_results_1000_clusters.csv\"\n",
    "config.save_dir = \"checkpoints_ViT-H-14-378-quickgelu_cluster_1000\"  # Specify custom save directory to save weights for later perf eval.\n",
    "# Run training\n",
    "log_file = main(config)"
   ]
  },
  {
   "cell_type": "markdown",
   "id": "e75f4fcc",
   "metadata": {},
   "source": [
    "### n = 2000"
   ]
  },
  {
   "cell_type": "code",
   "execution_count": null,
   "id": "1b0b88b6",
   "metadata": {},
   "outputs": [],
   "source": [
    "\n",
    "config.cluster_results_path = \"embeddings_train_ViT-H-14-378-quickgelu/clustering_results_2000_clusters.csv\"\n",
    "config.save_dir = \"checkpoints_ViT-H-14-378-quickgelu_cluster_2000\"  # Specify custom save directory to save weights for later perf eval.\n",
    "# Run training\n",
    "log_file = main(config)"
   ]
  },
  {
   "cell_type": "markdown",
   "id": "92de1f91",
   "metadata": {},
   "source": [
    "### n = 3000"
   ]
  },
  {
   "cell_type": "code",
   "execution_count": null,
   "id": "b5bf37b7",
   "metadata": {},
   "outputs": [],
   "source": [
    "\n",
    "\n",
    "\n",
    "config.cluster_results_path = \"embeddings_train_ViT-H-14-378-quickgelu/clustering_results_3000_clusters.csv\"\n",
    "config.save_dir = \"checkpoints_ViT-H-14-378-quickgelu_cluster_3000\"  # Specify custom save directory to save weights for later perf eval.\n",
    "# Run training\n",
    "log_file = main(config)\n"
   ]
  },
  {
   "cell_type": "markdown",
   "id": "ad2663a1",
   "metadata": {},
   "source": [
    "## Performance Evaluation"
   ]
  },
  {
   "cell_type": "markdown",
   "id": "64d45be3",
   "metadata": {},
   "source": [
    "### Bar chart comparing trained models against base for species and genus recall"
   ]
  },
  {
   "cell_type": "code",
   "execution_count": null,
   "id": "278b20a2",
   "metadata": {},
   "outputs": [],
   "source": [
    "import perf_evaluation_bar_charts as perf_eval_bar"
   ]
  },
  {
   "cell_type": "code",
   "execution_count": null,
   "id": "faa45679",
   "metadata": {},
   "outputs": [],
   "source": [
    "perf_eval_bar.main()"
   ]
  },
  {
   "cell_type": "markdown",
   "id": "5967b096",
   "metadata": {},
   "source": [
    "### Generate Embeddings of Test Rows"
   ]
  },
  {
   "cell_type": "code",
   "execution_count": null,
   "id": "ca124af4",
   "metadata": {},
   "outputs": [],
   "source": [
    "embed.process_and_save_embeddings(\n",
    "        csv_path=\"../Image-Captioning/vlm4bio_captions_with_split.csv\",\n",
    "        base_path=\"../Image-Captioning\",\n",
    "        batch_size=32,\n",
    "        save_every=1000,\n",
    "        cohort='test' # TEST!\n",
    "    )"
   ]
  },
  {
   "cell_type": "markdown",
   "id": "2b119892",
   "metadata": {},
   "source": [
    "### Benchmarks"
   ]
  },
  {
   "cell_type": "code",
   "execution_count": null,
   "id": "75f0c46a",
   "metadata": {},
   "outputs": [],
   "source": [
    "!pip install seaborn"
   ]
  },
  {
   "cell_type": "code",
   "execution_count": 1,
   "id": "a9dc9ec3",
   "metadata": {},
   "outputs": [],
   "source": [
    "import perf_evaluations"
   ]
  },
  {
   "cell_type": "code",
   "execution_count": null,
   "id": "0bbf97ba",
   "metadata": {},
   "outputs": [],
   "source": [
    "perf_evaluations.main() # Trained Model Results"
   ]
  },
  {
   "cell_type": "code",
   "execution_count": null,
   "id": "9dcabba5",
   "metadata": {},
   "outputs": [],
   "source": [
    "perf_evaluations.main() # ViT/B-32 Model Results"
   ]
  }
 ],
 "metadata": {
  "kernelspec": {
   "display_name": "Python 3 (ipykernel)",
   "language": "python",
   "name": "python3"
  },
  "language_info": {
   "codemirror_mode": {
    "name": "ipython",
    "version": 3
   },
   "file_extension": ".py",
   "mimetype": "text/x-python",
   "name": "python",
   "nbconvert_exporter": "python",
   "pygments_lexer": "ipython3",
   "version": "3.10.13"
  }
 },
 "nbformat": 4,
 "nbformat_minor": 5
}
